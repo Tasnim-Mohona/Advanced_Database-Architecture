{
 "cells": [
  {
   "cell_type": "code",
   "execution_count": null,
   "id": "ddea2967",
   "metadata": {},
   "outputs": [],
   "source": [
    "!pip install utils"
   ]
  },
  {
   "cell_type": "code",
   "execution_count": null,
   "id": "d0dda825",
   "metadata": {},
   "outputs": [],
   "source": [
    "import numpy as np\n",
    "\n",
    "def load_transactions(path_to_data, order):\n",
    "    Transactions=[]\n",
    "    with open(path_to_data, 'r') as fid:\n",
    "        for lines in fid:\n",
    "            str_line=list(lines.strip().split(','))\n",
    "            _t=list(np.unique(str_line))\n",
    "            _t.sort(key=lambda x: order.index(x)) #order=['I1','I2','I3', 'I4']\n",
    "            Transactions.append(_t)\n",
    "        return Transactions\n",
    "    \n",
    "def count_occurences(itemset, Transactions):\n",
    "        count=0\n",
    "        for i in range(len(Transactions)):\n",
    "            if set(itemset).issubset(set(Transactions[i])):\n",
    "                count+=1\n",
    "        return count\n",
    "    \n",
    "def join_two_itemsets(it1,it2,order):\n",
    "    #it1=sorted(it1, key=lambda x: x[1])\n",
    "    it1.sort(key=lambda x: order.index(x))\n",
    "    it2.sort(key=lambda x: order.index(x))\n",
    "    \n",
    "    for i in range(len(it1)-1):\n",
    "        if it1[i]!=it2[i]:\n",
    "            return[]\n",
    "        \n",
    "    if order.index(it1[-1])<order.index(it2[-1]):\n",
    "        return it1 + [it2[-1]]\n",
    "    \n",
    "    return[]\n",
    "    \n",
    "    \n",
    "    \n",
    "def join_set_itemsets(set_of_its,order):\n",
    "    C=[]\n",
    "    for i in range(len(set_of_its)):\n",
    "        for j in range(i+1, len(set_of_its)):\n",
    "            it_out=join_two_itemsets(set_of_its[i], set_of_its[j], order)\n",
    "            if len(it_out)>0:\n",
    "               C.append(it_out)\n",
    "    return C\n",
    "            \n",
    "            \n",
    "            \n",
    "            \n",
    "                \n",
    "def get_frequent(itemsets, Transactions, min_support, prev_discarded):\n",
    "        L=[]\n",
    "        supp_count=[]\n",
    "        new_discarded=[]\n",
    "           \n",
    "        k=len(prev_discarded.keys())\n",
    "            \n",
    "        for s in range(len(itemsets)):\n",
    "                discarded_before=False\n",
    "                if k>0:\n",
    "                    for it in prev_discarded[k]:\n",
    "                        if set(it).issubset(set(itemsets[s])):\n",
    "                            discarded_before=True\n",
    "                            break\n",
    "                                \n",
    "                if not discarded_before:\n",
    "                    count=count_occurences(itemsets[s], Transactions)\n",
    "                    if count/len(Transactions)>=min_support:\n",
    "                        L.append(itemsets[s])\n",
    "                        supp_count.append(count)\n",
    "                    else:\n",
    "                        new_discarded.append(itemsets[s])\n",
    "        return L, supp_count, new_discarded       \n",
    "            "
   ]
  },
  {
   "cell_type": "markdown",
   "id": "a121eccf",
   "metadata": {},
   "source": [
    "## Loading the Data"
   ]
  },
  {
   "cell_type": "code",
   "execution_count": null,
   "id": "ce8ae431",
   "metadata": {},
   "outputs": [],
   "source": [
    "path_to_data=\"data_1.txt\"\n",
    "min_support= 2/9\n",
    "min_conf = 0.3\n",
    "order=['I' + str(i) for i in range (1,6)]"
   ]
  },
  {
   "cell_type": "code",
   "execution_count": null,
   "id": "375a83f6",
   "metadata": {},
   "outputs": [],
   "source": [
    "order"
   ]
  },
  {
   "cell_type": "code",
   "execution_count": null,
   "id": "a7a7e803",
   "metadata": {},
   "outputs": [],
   "source": [
    "Transactions= load_transactions(path_to_data,order) \n",
    "num_trans= len(Transactions)"
   ]
  },
  {
   "cell_type": "code",
   "execution_count": null,
   "id": "be1f976c",
   "metadata": {},
   "outputs": [],
   "source": [
    "Transactions"
   ]
  },
  {
   "cell_type": "markdown",
   "id": "cbaa2087",
   "metadata": {},
   "source": [
    "## Initialization"
   ]
  },
  {
   "cell_type": "code",
   "execution_count": null,
   "id": "d2663148",
   "metadata": {},
   "outputs": [],
   "source": [
    "C={}\n",
    "L={}\n",
    "itemset_size=1\n",
    "Discarded= {itemset_size:[]}\n",
    "C.update({itemset_size: [ [f] for f in order]})"
   ]
  },
  {
   "cell_type": "code",
   "execution_count": null,
   "id": "9062e98c",
   "metadata": {},
   "outputs": [],
   "source": [
    "C"
   ]
  },
  {
   "cell_type": "code",
   "execution_count": null,
   "id": "762bbf4f",
   "metadata": {},
   "outputs": [],
   "source": [
    "def print_table(T, supp_count):\n",
    "    print('Itemset | Frequency')\n",
    "    for k in range(len(T)):\n",
    "        print(\"{} | {}\".format(T[k], supp_count[k]))\n",
    "        print(\"\\n\\n\")"
   ]
  },
  {
   "cell_type": "raw",
   "id": "4df29e42",
   "metadata": {},
   "source": [
    "CREATE L1"
   ]
  },
  {
   "cell_type": "code",
   "execution_count": null,
   "id": "3a0d3ad1",
   "metadata": {},
   "outputs": [],
   "source": [
    "supp_count_L= {}\n",
    "f,sup,new_discarded= get_frequent(C[itemset_size],Transactions, min_support,Discarded)\n",
    "Discarded.update({itemset_size:new_discarded})\n",
    "L.update({itemset_size:f})\n",
    "supp_count_L.update({itemset_size:sup})"
   ]
  },
  {
   "cell_type": "code",
   "execution_count": null,
   "id": "9093d21d",
   "metadata": {},
   "outputs": [],
   "source": [
    "print(\"L1:\\n\")\n",
    "print_table(L[1], supp_count_L[1])"
   ]
  },
  {
   "cell_type": "markdown",
   "id": "72f63594",
   "metadata": {},
   "source": [
    "C[k]  (we are going to need the join step from L[k-1])\n",
    "L[k]  \n"
   ]
  },
  {
   "cell_type": "code",
   "execution_count": null,
   "id": "f0022767",
   "metadata": {},
   "outputs": [],
   "source": [
    "k=itemset_size+1\n",
    "convergence=0\n",
    "while not convergence:\n",
    "    C.update({k:join_set_itemsets(L[k-1], order)})\n",
    "    print(\"Table c(): \\n\".format(k))\n",
    "    print_table(C[k], [count_occurences(it, Transactions) for it in C[k]])\n",
    "    f,sup, new_discarded=get_frequent(C[k], Transactions, min_support,Discarded)\n",
    "    Discarded.update({k:new_discarded})\n",
    "    L.update({k : f})\n",
    "    supp_count_L.update({k:sup})\n",
    "    if len(L[k])==0:\n",
    "        convergence=True\n",
    "    else:\n",
    "        print(\"Table L{}: \\n\".format(k))\n",
    "        print_table(L[k], supp_count_L[k])\n",
    "    k == 1"
   ]
  },
  {
   "cell_type": "markdown",
   "id": "28e359dc",
   "metadata": {},
   "source": [
    "## Generating the Association Rules"
   ]
  },
  {
   "cell_type": "code",
   "execution_count": null,
   "id": "1eff1219",
   "metadata": {},
   "outputs": [],
   "source": [
    "from itertools import combinations, chain\n",
    "\n",
    "def powerset(s):\n",
    "    return list(chain.from_iterable(combinations(s,r) for r in range(1, len(s) + 1)))"
   ]
  },
  {
   "cell_type": "code",
   "execution_count": null,
   "id": "dd550478",
   "metadata": {},
   "outputs": [],
   "source": [
    "def write_rules(X, X_S, S, conf, supp, lift, num_trans):\n",
    "    out_rules=\"\"\n",
    "    out_rules+=\"Freq. Itemset: {}\\n\".format(X)\n",
    "    out_rules+=\"    Rules{} ->  {}\\n\".format(list(S),list(X_S))\n",
    "    out_rules+=\"    Conf: {0:2.3f} \".format(conf)\n",
    "    out_rules+=\"    Supp: {0:2.3f} \".format(supp/num_trans)\n",
    "    out_rules+=\"    Lift: {0:2.3f} \".format(lift)\n",
    "    return out_rules\n",
    "    \n",
    "    \n",
    "    \n",
    "    "
   ]
  },
  {
   "cell_type": "code",
   "execution_count": null,
   "id": "2dec3ba5",
   "metadata": {},
   "outputs": [],
   "source": [
    "assoc_rules_str=\"\"\n",
    "\n",
    "for i in range(1, len(L)):\n",
    "    for j in range (len(L[i])):\n",
    "        s=powerset(L[i][j])\n",
    "        s.pop()\n",
    "        for z in s:\n",
    "            S=set(z)\n",
    "            X=set(L[i][j])\n",
    "            S_X=set(X-S)\n",
    "            sup_x=count_occurences(X, Transactions)\n",
    "            sup_x_s=count_occurences(X_S, Transactions)\n",
    "            conf=sup_x/count_occurences(S,Transactions)\n",
    "            lift=conf/(sup_x_s/num_trans)\n",
    "            if conf>= min_conf and sup_x>=min_support:\n",
    "                assoc_rules_str>=write_rules(X, X_S, S, conf, sup_x,lift,num_trans)"
   ]
  },
  {
   "cell_type": "code",
   "execution_count": null,
   "id": "84e32098",
   "metadata": {},
   "outputs": [],
   "source": [
    "print (assoc_rules_str)"
   ]
  },
  {
   "cell_type": "code",
   "execution_count": null,
   "id": "b7498d03",
   "metadata": {},
   "outputs": [],
   "source": []
  }
 ],
 "metadata": {
  "kernelspec": {
   "display_name": "Python 3 (ipykernel)",
   "language": "python",
   "name": "python3"
  },
  "language_info": {
   "codemirror_mode": {
    "name": "ipython",
    "version": 3
   },
   "file_extension": ".py",
   "mimetype": "text/x-python",
   "name": "python",
   "nbconvert_exporter": "python",
   "pygments_lexer": "ipython3",
   "version": "3.9.12"
  }
 },
 "nbformat": 4,
 "nbformat_minor": 5
}
